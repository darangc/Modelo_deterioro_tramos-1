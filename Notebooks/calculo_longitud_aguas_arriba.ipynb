{
  "cells": [
    {
      "cell_type": "code",
      "execution_count": 5,
      "metadata": {
        "id": "9XJCmbwju4wP"
      },
      "outputs": [],
      "source": [
        "#%pip install pandas\n",
        "#%pip install openpyxl"
      ]
    },
    {
      "cell_type": "code",
      "execution_count": 7,
      "metadata": {},
      "outputs": [],
      "source": [
        "import pandas as pd\n",
        "import openpyxl\n",
        "import networkx as nx"
      ]
    },
    {
      "cell_type": "code",
      "execution_count": 2,
      "metadata": {},
      "outputs": [],
      "source": [
        "# Definiciones globales\n",
        "\n",
        "%run ../Lib/pandas_options.py\n",
        "%run ../Lib/define_constantes.py"
      ]
    },
    {
      "cell_type": "code",
      "execution_count": 3,
      "metadata": {
        "colab": {
          "base_uri": "https://localhost:8080/"
        },
        "id": "q5IMR24zxlX9",
        "outputId": "70979c62-d865-4621-80a5-95e2656470ce"
      },
      "outputs": [],
      "source": [
        "#leer archivo plano del \"DataLake\"\n",
        "\n",
        "archivo_datos_tramos = f'{DIRECTORIO_DATOS}/TRAMOS_GRAFO.csv'\n",
        "tuberias_df = pd.read_csv(archivo_datos_tramos, low_memory=False)"
      ]
    },
    {
      "cell_type": "code",
      "execution_count": 4,
      "metadata": {
        "colab": {
          "base_uri": "https://localhost:8080/"
        },
        "id": "OssrueeCBHtV",
        "outputId": "0a7d6548-e588-4d77-ced0-fbc72a626c73"
      },
      "outputs": [
        {
          "data": {
            "text/plain": [
              "(177958, 7)"
            ]
          },
          "execution_count": 4,
          "metadata": {},
          "output_type": "execute_result"
        }
      ],
      "source": [
        "tuberias_df.shape"
      ]
    },
    {
      "cell_type": "code",
      "execution_count": 5,
      "metadata": {
        "colab": {
          "base_uri": "https://localhost:8080/",
          "height": 206
        },
        "id": "bGEpqP2pxy1e",
        "outputId": "b9f45635-14e1-4ff2-a335-2a097d93c9e0"
      },
      "outputs": [
        {
          "data": {
            "text/html": [
              "<div>\n",
              "<style scoped>\n",
              "    .dataframe tbody tr th:only-of-type {\n",
              "        vertical-align: middle;\n",
              "    }\n",
              "\n",
              "    .dataframe tbody tr th {\n",
              "        vertical-align: top;\n",
              "    }\n",
              "\n",
              "    .dataframe thead th {\n",
              "        text-align: right;\n",
              "    }\n",
              "</style>\n",
              "<table border=\"1\" class=\"dataframe\">\n",
              "  <thead>\n",
              "    <tr style=\"text-align: right;\">\n",
              "      <th></th>\n",
              "      <th>G3E_FID</th>\n",
              "      <th>NODO1_ID</th>\n",
              "      <th>NODO2_ID</th>\n",
              "      <th>LONGITUD</th>\n",
              "      <th>ESTADO</th>\n",
              "      <th>CUENCA</th>\n",
              "      <th>ARRANQUE</th>\n",
              "    </tr>\n",
              "  </thead>\n",
              "  <tbody>\n",
              "    <tr>\n",
              "      <th>0</th>\n",
              "      <td>9223134</td>\n",
              "      <td>9113886</td>\n",
              "      <td>6085537</td>\n",
              "      <td>9.34</td>\n",
              "      <td>OPERACION</td>\n",
              "      <td>LA HUESO</td>\n",
              "      <td>NO</td>\n",
              "    </tr>\n",
              "    <tr>\n",
              "      <th>1</th>\n",
              "      <td>9224406</td>\n",
              "      <td>9114334</td>\n",
              "      <td>9114335</td>\n",
              "      <td>15.04</td>\n",
              "      <td>OPERACION</td>\n",
              "      <td>LA MALPASO</td>\n",
              "      <td>NO</td>\n",
              "    </tr>\n",
              "    <tr>\n",
              "      <th>2</th>\n",
              "      <td>9224407</td>\n",
              "      <td>9114335</td>\n",
              "      <td>9114336</td>\n",
              "      <td>3.06</td>\n",
              "      <td>OPERACION</td>\n",
              "      <td>LA MALPASO</td>\n",
              "      <td>NO</td>\n",
              "    </tr>\n",
              "    <tr>\n",
              "      <th>3</th>\n",
              "      <td>9224409</td>\n",
              "      <td>9114337</td>\n",
              "      <td>9114338</td>\n",
              "      <td>13.12</td>\n",
              "      <td>OPERACION</td>\n",
              "      <td>LA MALPASO</td>\n",
              "      <td>NO</td>\n",
              "    </tr>\n",
              "    <tr>\n",
              "      <th>4</th>\n",
              "      <td>9224410</td>\n",
              "      <td>9114338</td>\n",
              "      <td>9114339</td>\n",
              "      <td>3.61</td>\n",
              "      <td>OPERACION</td>\n",
              "      <td>LA MALPASO</td>\n",
              "      <td>NO</td>\n",
              "    </tr>\n",
              "  </tbody>\n",
              "</table>\n",
              "</div>"
            ],
            "text/plain": [
              "   G3E_FID  NODO1_ID  NODO2_ID  LONGITUD     ESTADO      CUENCA ARRANQUE\n",
              "0  9223134   9113886   6085537      9.34  OPERACION    LA HUESO       NO\n",
              "1  9224406   9114334   9114335     15.04  OPERACION  LA MALPASO       NO\n",
              "2  9224407   9114335   9114336      3.06  OPERACION  LA MALPASO       NO\n",
              "3  9224409   9114337   9114338     13.12  OPERACION  LA MALPASO       NO\n",
              "4  9224410   9114338   9114339      3.61  OPERACION  LA MALPASO       NO"
            ]
          },
          "execution_count": 5,
          "metadata": {},
          "output_type": "execute_result"
        }
      ],
      "source": [
        "tuberias_df.head()"
      ]
    },
    {
      "cell_type": "code",
      "execution_count": 8,
      "metadata": {
        "id": "gFpodLz2vESQ"
      },
      "outputs": [],
      "source": [
        "# Crear un grafo dirigido\n",
        "G = nx.DiGraph()"
      ]
    },
    {
      "cell_type": "code",
      "execution_count": 9,
      "metadata": {
        "id": "v-X5CRvtvHSH"
      },
      "outputs": [],
      "source": [
        "# Agregar todas las tuberías al grafo\n",
        "for _, row in tuberias_df.iterrows():\n",
        "    G.add_edge(\n",
        "        row['NODO1_ID'],\n",
        "        row['NODO2_ID'],\n",
        "        G3E_FID=row['G3E_FID'],\n",
        "        length=row['LONGITUD'],\n",
        "        arranque=row['ARRANQUE']\n",
        "    )\n"
      ]
    },
    {
      "cell_type": "code",
      "execution_count": 16,
      "metadata": {
        "id": "OsiqQBXqf2u7"
      },
      "outputs": [],
      "source": [
        "# Función para calcular la longitud de las redes aguas arriba para un nodo específico\n",
        "def calcular_longitud_aguas_arriba(nodo, grafo):\n",
        "    # Lista para almacenar los nodos visitados y la longitud total\n",
        "    visitados = set()\n",
        "    longitud_total = 0\n",
        "\n",
        "    # Función recursiva para recorrer los nodos aguas arriba\n",
        "    def recorrer_aguas_arriba(nodo_actual):\n",
        "        nonlocal longitud_total\n",
        "        visitados.add(nodo_actual)\n",
        "\n",
        "        # Recorrer todos los predecesores (nodos aguas arriba)\n",
        "        for predecesor in grafo.predecessors(nodo_actual):\n",
        "            if predecesor not in visitados:\n",
        "                # Sumar la longitud de la tubería que conecta el predecesor con el nodo actual\n",
        "                longitud_total += grafo[predecesor][nodo_actual]['length']\n",
        "\n",
        "                # Verificar si la arista tiene arranque = 'SI' y detener el recorrido en esa ruta\n",
        "                if grafo[predecesor][nodo_actual]['arranque'] == 'SI':\n",
        "                    continue  # Detener el recorrido por este camino, pero ya se sumó la longitud\n",
        "\n",
        "                # Recursión para seguir buscando más arriba\n",
        "                recorrer_aguas_arriba(predecesor)\n",
        "\n",
        "    # Iniciar el recorrido desde el nodo especificado\n",
        "    recorrer_aguas_arriba(nodo)\n",
        "\n",
        "    return longitud_total\n"
      ]
    },
    {
      "cell_type": "code",
      "execution_count": 25,
      "metadata": {
        "id": "pJtIDB7Q6zMl"
      },
      "outputs": [],
      "source": [
        "# Crear una nueva columna en el DataFrame para almacenar la longitud aguas arriba de cada tubería\n",
        "tuberias_df['LONGITUD_AGUAS_ARRIBA'] = tuberias_df['NODO1_ID'].apply(lambda nodo: calcular_longitud_aguas_arriba(nodo, G))"
      ]
    },
    {
      "cell_type": "code",
      "execution_count": 17,
      "metadata": {
        "id": "j9wYiNSm3pCk"
      },
      "outputs": [],
      "source": [
        "#Asignar longitud_aguas_arriba = 0 para los arranques.\n",
        "tuberias_df.loc[tuberias_df['ARRANQUE'] == 'SI', 'LONGITUD_AGUAS_ARRIBA'] = 0"
      ]
    },
    {
      "cell_type": "code",
      "execution_count": 18,
      "metadata": {
        "colab": {
          "base_uri": "https://localhost:8080/",
          "height": 206
        },
        "id": "xRe0PZT14qCd",
        "outputId": "bd88935b-59ac-4cf1-b80b-577c7d82a8d5"
      },
      "outputs": [
        {
          "data": {
            "text/html": [
              "<div>\n",
              "<style scoped>\n",
              "    .dataframe tbody tr th:only-of-type {\n",
              "        vertical-align: middle;\n",
              "    }\n",
              "\n",
              "    .dataframe tbody tr th {\n",
              "        vertical-align: top;\n",
              "    }\n",
              "\n",
              "    .dataframe thead th {\n",
              "        text-align: right;\n",
              "    }\n",
              "</style>\n",
              "<table border=\"1\" class=\"dataframe\">\n",
              "  <thead>\n",
              "    <tr style=\"text-align: right;\">\n",
              "      <th></th>\n",
              "      <th>G3E_FID</th>\n",
              "      <th>NODO1_ID</th>\n",
              "      <th>NODO2_ID</th>\n",
              "      <th>LONGITUD</th>\n",
              "      <th>ESTADO</th>\n",
              "      <th>CUENCA</th>\n",
              "      <th>ARRANQUE</th>\n",
              "      <th>LONGITUD_AGUAS_ARRIBA</th>\n",
              "    </tr>\n",
              "  </thead>\n",
              "  <tbody>\n",
              "    <tr>\n",
              "      <th>0</th>\n",
              "      <td>9223134</td>\n",
              "      <td>9113886</td>\n",
              "      <td>6085537</td>\n",
              "      <td>9.34</td>\n",
              "      <td>OPERACION</td>\n",
              "      <td>LA HUESO</td>\n",
              "      <td>NO</td>\n",
              "      <td>NaN</td>\n",
              "    </tr>\n",
              "    <tr>\n",
              "      <th>1</th>\n",
              "      <td>9224406</td>\n",
              "      <td>9114334</td>\n",
              "      <td>9114335</td>\n",
              "      <td>15.04</td>\n",
              "      <td>OPERACION</td>\n",
              "      <td>LA MALPASO</td>\n",
              "      <td>NO</td>\n",
              "      <td>NaN</td>\n",
              "    </tr>\n",
              "    <tr>\n",
              "      <th>2</th>\n",
              "      <td>9224407</td>\n",
              "      <td>9114335</td>\n",
              "      <td>9114336</td>\n",
              "      <td>3.06</td>\n",
              "      <td>OPERACION</td>\n",
              "      <td>LA MALPASO</td>\n",
              "      <td>NO</td>\n",
              "      <td>NaN</td>\n",
              "    </tr>\n",
              "    <tr>\n",
              "      <th>3</th>\n",
              "      <td>9224409</td>\n",
              "      <td>9114337</td>\n",
              "      <td>9114338</td>\n",
              "      <td>13.12</td>\n",
              "      <td>OPERACION</td>\n",
              "      <td>LA MALPASO</td>\n",
              "      <td>NO</td>\n",
              "      <td>NaN</td>\n",
              "    </tr>\n",
              "    <tr>\n",
              "      <th>4</th>\n",
              "      <td>9224410</td>\n",
              "      <td>9114338</td>\n",
              "      <td>9114339</td>\n",
              "      <td>3.61</td>\n",
              "      <td>OPERACION</td>\n",
              "      <td>LA MALPASO</td>\n",
              "      <td>NO</td>\n",
              "      <td>NaN</td>\n",
              "    </tr>\n",
              "  </tbody>\n",
              "</table>\n",
              "</div>"
            ],
            "text/plain": [
              "   G3E_FID  NODO1_ID  NODO2_ID  LONGITUD     ESTADO      CUENCA ARRANQUE  \\\n",
              "0  9223134   9113886   6085537      9.34  OPERACION    LA HUESO       NO   \n",
              "1  9224406   9114334   9114335     15.04  OPERACION  LA MALPASO       NO   \n",
              "2  9224407   9114335   9114336      3.06  OPERACION  LA MALPASO       NO   \n",
              "3  9224409   9114337   9114338     13.12  OPERACION  LA MALPASO       NO   \n",
              "4  9224410   9114338   9114339      3.61  OPERACION  LA MALPASO       NO   \n",
              "\n",
              "   LONGITUD_AGUAS_ARRIBA  \n",
              "0                    NaN  \n",
              "1                    NaN  \n",
              "2                    NaN  \n",
              "3                    NaN  \n",
              "4                    NaN  "
            ]
          },
          "execution_count": 18,
          "metadata": {},
          "output_type": "execute_result"
        }
      ],
      "source": [
        "tuberias_df.head()"
      ]
    },
    {
      "cell_type": "code",
      "execution_count": 19,
      "metadata": {
        "colab": {
          "base_uri": "https://localhost:8080/",
          "height": 206
        },
        "id": "Wr8XCjUq4oRw",
        "outputId": "49215346-e827-44a6-978a-f6dd8916b36e"
      },
      "outputs": [
        {
          "data": {
            "text/html": [
              "<div>\n",
              "<style scoped>\n",
              "    .dataframe tbody tr th:only-of-type {\n",
              "        vertical-align: middle;\n",
              "    }\n",
              "\n",
              "    .dataframe tbody tr th {\n",
              "        vertical-align: top;\n",
              "    }\n",
              "\n",
              "    .dataframe thead th {\n",
              "        text-align: right;\n",
              "    }\n",
              "</style>\n",
              "<table border=\"1\" class=\"dataframe\">\n",
              "  <thead>\n",
              "    <tr style=\"text-align: right;\">\n",
              "      <th></th>\n",
              "      <th>G3E_FID</th>\n",
              "      <th>NODO1_ID</th>\n",
              "      <th>NODO2_ID</th>\n",
              "      <th>LONGITUD</th>\n",
              "      <th>ESTADO</th>\n",
              "      <th>CUENCA</th>\n",
              "      <th>ARRANQUE</th>\n",
              "      <th>LONGITUD_AGUAS_ARRIBA</th>\n",
              "    </tr>\n",
              "  </thead>\n",
              "  <tbody>\n",
              "    <tr>\n",
              "      <th>5</th>\n",
              "      <td>302880</td>\n",
              "      <td>6077555</td>\n",
              "      <td>9072279</td>\n",
              "      <td>8.80</td>\n",
              "      <td>OPERACION</td>\n",
              "      <td>LA POBLADA</td>\n",
              "      <td>SI</td>\n",
              "      <td>0.0</td>\n",
              "    </tr>\n",
              "    <tr>\n",
              "      <th>6</th>\n",
              "      <td>9223126</td>\n",
              "      <td>9514365</td>\n",
              "      <td>9113880</td>\n",
              "      <td>8.42</td>\n",
              "      <td>OPERACION</td>\n",
              "      <td>LA HUESO</td>\n",
              "      <td>SI</td>\n",
              "      <td>0.0</td>\n",
              "    </tr>\n",
              "    <tr>\n",
              "      <th>14</th>\n",
              "      <td>9225718</td>\n",
              "      <td>9114927</td>\n",
              "      <td>9114928</td>\n",
              "      <td>19.19</td>\n",
              "      <td>OPERACION</td>\n",
              "      <td>LA IGUANA</td>\n",
              "      <td>SI</td>\n",
              "      <td>0.0</td>\n",
              "    </tr>\n",
              "    <tr>\n",
              "      <th>19</th>\n",
              "      <td>268458</td>\n",
              "      <td>6049764</td>\n",
              "      <td>6049762</td>\n",
              "      <td>43.30</td>\n",
              "      <td>OPERACION</td>\n",
              "      <td>LA AGUACATALA</td>\n",
              "      <td>SI</td>\n",
              "      <td>0.0</td>\n",
              "    </tr>\n",
              "    <tr>\n",
              "      <th>20</th>\n",
              "      <td>284554</td>\n",
              "      <td>8512331</td>\n",
              "      <td>8512332</td>\n",
              "      <td>76.30</td>\n",
              "      <td>OPERACION</td>\n",
              "      <td>LA AGUACATALA</td>\n",
              "      <td>SI</td>\n",
              "      <td>0.0</td>\n",
              "    </tr>\n",
              "  </tbody>\n",
              "</table>\n",
              "</div>"
            ],
            "text/plain": [
              "    G3E_FID  NODO1_ID  NODO2_ID  LONGITUD     ESTADO         CUENCA ARRANQUE  \\\n",
              "5    302880   6077555   9072279      8.80  OPERACION     LA POBLADA       SI   \n",
              "6   9223126   9514365   9113880      8.42  OPERACION       LA HUESO       SI   \n",
              "14  9225718   9114927   9114928     19.19  OPERACION      LA IGUANA       SI   \n",
              "19   268458   6049764   6049762     43.30  OPERACION  LA AGUACATALA       SI   \n",
              "20   284554   8512331   8512332     76.30  OPERACION  LA AGUACATALA       SI   \n",
              "\n",
              "    LONGITUD_AGUAS_ARRIBA  \n",
              "5                     0.0  \n",
              "6                     0.0  \n",
              "14                    0.0  \n",
              "19                    0.0  \n",
              "20                    0.0  "
            ]
          },
          "execution_count": 19,
          "metadata": {},
          "output_type": "execute_result"
        }
      ],
      "source": [
        "tuberias_df[tuberias_df['ARRANQUE']=='SI'].head()"
      ]
    },
    {
      "cell_type": "code",
      "execution_count": 27,
      "metadata": {},
      "outputs": [],
      "source": [
        "# Ruta donde deseas guardar el archivo\n",
        "ruta = r'Datos\\Salida\\tuberias_con_longitud_aguas_arriba.xlsx'"
      ]
    },
    {
      "cell_type": "code",
      "execution_count": 28,
      "metadata": {},
      "outputs": [],
      "source": [
        "\n",
        "# Guardar el DataFrame como un archivo Excel\n",
        "tuberias_df.to_excel(ruta, index=False, engine='openpyxl')"
      ]
    }
  ],
  "metadata": {
    "colab": {
      "provenance": []
    },
    "kernelspec": {
      "display_name": ".venv",
      "language": "python",
      "name": "python3"
    },
    "language_info": {
      "codemirror_mode": {
        "name": "ipython",
        "version": 3
      },
      "file_extension": ".py",
      "mimetype": "text/x-python",
      "name": "python",
      "nbconvert_exporter": "python",
      "pygments_lexer": "ipython3",
      "version": "3.10.11"
    }
  },
  "nbformat": 4,
  "nbformat_minor": 0
}
