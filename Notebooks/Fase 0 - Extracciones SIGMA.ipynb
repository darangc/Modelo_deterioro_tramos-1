{
 "cells": [
  {
   "cell_type": "code",
   "execution_count": 5,
   "metadata": {},
   "outputs": [],
   "source": [
    "#%pip install pandas\n",
    "#%pip install networkx\n",
    "#%pip install cx_Oracle\n",
    "#%pip install openpyxl"
   ]
  },
  {
   "cell_type": "code",
   "execution_count": 6,
   "metadata": {},
   "outputs": [],
   "source": [
    "import networkx as nx\n",
    "import pandas as pd\n",
    "import cx_Oracle\n",
    "import openpyxl"
   ]
  },
  {
   "cell_type": "code",
   "execution_count": 7,
   "metadata": {},
   "outputs": [],
   "source": [
    "# Definiciones globales\n",
    "\n",
    "%run ../Lib/pandas_options.py\n",
    "%run ../Lib/define_constantes.py"
   ]
  },
  {
   "cell_type": "code",
   "execution_count": 8,
   "metadata": {},
   "outputs": [],
   "source": [
    "#inicializamos cliente oracle\n",
    "cx_Oracle.init_oracle_client(lib_dir=r\"C:/oracle/instantclient_23_5\")"
   ]
  },
  {
   "cell_type": "code",
   "execution_count": 9,
   "metadata": {},
   "outputs": [],
   "source": [
    "#ejecutar conexión SIGMA\n",
    "%run ../Lib/conn_sigma_aguas.py"
   ]
  },
  {
   "cell_type": "markdown",
   "metadata": {},
   "source": [
    "#### Extracción y guardado de los Datos Tramos para el Grafo"
   ]
  },
  {
   "cell_type": "code",
   "execution_count": 10,
   "metadata": {},
   "outputs": [],
   "source": [
    "# Leer el archivo SQL para construcción del grafo\n",
    "with open('../Lib/sql_tramos_grafo.sql', 'r') as file:\n",
    "    query_tramos_grafo = file.read()"
   ]
  },
  {
   "cell_type": "code",
   "execution_count": 11,
   "metadata": {},
   "outputs": [
    {
     "name": "stderr",
     "output_type": "stream",
     "text": [
      "C:\\Users\\dsance\\AppData\\Local\\Temp\\ipykernel_14800\\255727783.py:2: UserWarning: pandas only supports SQLAlchemy connectable (engine/connection) or database string URI or sqlite3 DBAPI2 connection. Other DBAPI2 objects are not tested. Please consider using SQLAlchemy.\n",
      "  df_tramos_grafo = pd.read_sql(query_tramos_grafo, con=conn_sigma_aguas)\n"
     ]
    }
   ],
   "source": [
    "\n",
    "# Para cargarlo directamente desse la base de datos Ejecutar la consulta y crear el DataFrame\n",
    "df_tramos_grafo = pd.read_sql(query_tramos_grafo, con=conn_sigma_aguas)"
   ]
  },
  {
   "cell_type": "code",
   "execution_count": 12,
   "metadata": {},
   "outputs": [
    {
     "data": {
      "text/html": [
       "<div>\n",
       "<style scoped>\n",
       "    .dataframe tbody tr th:only-of-type {\n",
       "        vertical-align: middle;\n",
       "    }\n",
       "\n",
       "    .dataframe tbody tr th {\n",
       "        vertical-align: top;\n",
       "    }\n",
       "\n",
       "    .dataframe thead th {\n",
       "        text-align: right;\n",
       "    }\n",
       "</style>\n",
       "<table border=\"1\" class=\"dataframe\">\n",
       "  <thead>\n",
       "    <tr style=\"text-align: right;\">\n",
       "      <th></th>\n",
       "      <th>G3E_FID</th>\n",
       "      <th>NODO1_ID</th>\n",
       "      <th>NODO2_ID</th>\n",
       "      <th>LONGITUD</th>\n",
       "      <th>ESTADO</th>\n",
       "      <th>CUENCA</th>\n",
       "      <th>ARRANQUE</th>\n",
       "    </tr>\n",
       "  </thead>\n",
       "  <tbody>\n",
       "    <tr>\n",
       "      <th>0</th>\n",
       "      <td>9223134</td>\n",
       "      <td>9113886</td>\n",
       "      <td>6085537</td>\n",
       "      <td>9.34</td>\n",
       "      <td>OPERACION</td>\n",
       "      <td>LA HUESO</td>\n",
       "      <td>NO</td>\n",
       "    </tr>\n",
       "    <tr>\n",
       "      <th>1</th>\n",
       "      <td>9224406</td>\n",
       "      <td>9114334</td>\n",
       "      <td>9114335</td>\n",
       "      <td>15.04</td>\n",
       "      <td>OPERACION</td>\n",
       "      <td>LA MALPASO</td>\n",
       "      <td>NO</td>\n",
       "    </tr>\n",
       "    <tr>\n",
       "      <th>2</th>\n",
       "      <td>9224407</td>\n",
       "      <td>9114335</td>\n",
       "      <td>9114336</td>\n",
       "      <td>3.06</td>\n",
       "      <td>OPERACION</td>\n",
       "      <td>LA MALPASO</td>\n",
       "      <td>NO</td>\n",
       "    </tr>\n",
       "    <tr>\n",
       "      <th>3</th>\n",
       "      <td>9224409</td>\n",
       "      <td>9114337</td>\n",
       "      <td>9114338</td>\n",
       "      <td>13.12</td>\n",
       "      <td>OPERACION</td>\n",
       "      <td>LA MALPASO</td>\n",
       "      <td>NO</td>\n",
       "    </tr>\n",
       "    <tr>\n",
       "      <th>4</th>\n",
       "      <td>9224410</td>\n",
       "      <td>9114338</td>\n",
       "      <td>9114339</td>\n",
       "      <td>3.61</td>\n",
       "      <td>OPERACION</td>\n",
       "      <td>LA MALPASO</td>\n",
       "      <td>NO</td>\n",
       "    </tr>\n",
       "  </tbody>\n",
       "</table>\n",
       "</div>"
      ],
      "text/plain": [
       "   G3E_FID  NODO1_ID  NODO2_ID  LONGITUD     ESTADO      CUENCA ARRANQUE\n",
       "0  9223134   9113886   6085537      9.34  OPERACION    LA HUESO       NO\n",
       "1  9224406   9114334   9114335     15.04  OPERACION  LA MALPASO       NO\n",
       "2  9224407   9114335   9114336      3.06  OPERACION  LA MALPASO       NO\n",
       "3  9224409   9114337   9114338     13.12  OPERACION  LA MALPASO       NO\n",
       "4  9224410   9114338   9114339      3.61  OPERACION  LA MALPASO       NO"
      ]
     },
     "execution_count": 12,
     "metadata": {},
     "output_type": "execute_result"
    }
   ],
   "source": [
    "df_tramos_grafo.head()"
   ]
  },
  {
   "cell_type": "code",
   "execution_count": 13,
   "metadata": {},
   "outputs": [],
   "source": [
    "# Guardar archivo de Tramos Grafo (\"Data Lake\")\n",
    "\n",
    "archivo_tramos_grafo = f'{DIRECTORIO_DATOS}/TRAMOS_GRAFO.csv'\n",
    "df_tramos_grafo.to_csv(archivo_tramos_grafo, index=False)"
   ]
  },
  {
   "cell_type": "markdown",
   "metadata": {},
   "source": [
    "#### Extracción y guardado de los Datos Tramos para el modelo"
   ]
  },
  {
   "cell_type": "code",
   "execution_count": 14,
   "metadata": {},
   "outputs": [],
   "source": [
    "# Leer el archivo SQL para construcción del grafo\n",
    "with open('../Lib/sql_datos_tramos.sql', 'r') as file:\n",
    "    query_datos_tramos = file.read()"
   ]
  },
  {
   "cell_type": "code",
   "execution_count": 15,
   "metadata": {},
   "outputs": [
    {
     "name": "stderr",
     "output_type": "stream",
     "text": [
      "C:\\Users\\dsance\\AppData\\Local\\Temp\\ipykernel_14800\\2096037417.py:2: UserWarning: pandas only supports SQLAlchemy connectable (engine/connection) or database string URI or sqlite3 DBAPI2 connection. Other DBAPI2 objects are not tested. Please consider using SQLAlchemy.\n",
      "  df_datos_tramos = pd.read_sql(query_datos_tramos, con=conn_sigma_aguas)\n"
     ]
    }
   ],
   "source": [
    "\n",
    "# Para cargarlo directamente desse la base de datos Ejecutar la consulta y crear el DataFrame\n",
    "df_datos_tramos = pd.read_sql(query_datos_tramos, con=conn_sigma_aguas)"
   ]
  },
  {
   "cell_type": "code",
   "execution_count": 16,
   "metadata": {},
   "outputs": [],
   "source": [
    "# Guardar archivo de Tramos Grafo (\"Data Lake\")\n",
    "\n",
    "archivo_datos_tramos = f'{DIRECTORIO_DATOS}/DATOS_TRAMOS.csv'\n",
    "df_datos_tramos.to_csv(archivo_datos_tramos, index=False)"
   ]
  }
 ],
 "metadata": {
  "kernelspec": {
   "display_name": ".venv",
   "language": "python",
   "name": "python3"
  },
  "language_info": {
   "codemirror_mode": {
    "name": "ipython",
    "version": 3
   },
   "file_extension": ".py",
   "mimetype": "text/x-python",
   "name": "python",
   "nbconvert_exporter": "python",
   "pygments_lexer": "ipython3",
   "version": "3.10.11"
  }
 },
 "nbformat": 4,
 "nbformat_minor": 2
}
